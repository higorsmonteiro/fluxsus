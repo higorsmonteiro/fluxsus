{
 "cells": [
  {
   "cell_type": "code",
   "execution_count": 1,
   "metadata": {},
   "outputs": [
    {
     "name": "stdout",
     "output_type": "stream",
     "text": [
      "PyTables is not installed. No support for HDF output.\n"
     ]
    }
   ],
   "source": [
    "import os\n",
    "import sys\n",
    "sys.path.append(os.path.join(\"..\", \"..\", \"..\", \"pyopensus\"))\n",
    "\n",
    "import glob\n",
    "import numpy as np\n",
    "import pandas as pd\n",
    "import datetime as dt\n",
    "import geopandas as gpd\n",
    "from collections import defaultdict\n",
    "\n",
    "# -- canonical dbf and assertion error fixed dbf reading\n",
    "from simpledbf import Dbf5\n",
    "from pyopensus import DBFIX\n",
    "\n",
    "# -- network analysis (later install graph-tool)\n",
    "import networkx as nx\n",
    "import matplotlib.pyplot as plt\n",
    "\n",
    "from netsus import NetSUS"
   ]
  },
  {
   "cell_type": "code",
   "execution_count": 2,
   "metadata": {},
   "outputs": [],
   "source": [
    "datapath = os.path.join(os.environ[\"HOMEPATH\"], \"Documents\", \"data\")\n",
    "suspath = os.path.join(datapath, \"opendatasus\")\n",
    "\n",
    "CNES_FILE = \"STCE2309.dbf\" # -- estabelecimentos\n",
    "#SIH_FILES = glob.glob(os.path.join(suspath, \"sihsus\", \"DBF\", \"*.dbf\")) # -- atendimento hospitalar"
   ]
  },
  {
   "cell_type": "markdown",
   "metadata": {},
   "source": [
    "All ICD-10"
   ]
  },
  {
   "cell_type": "code",
   "execution_count": 3,
   "metadata": {},
   "outputs": [
    {
     "name": "stderr",
     "output_type": "stream",
     "text": [
      "c:\\Users\\Higor Monteiro\\Documents\\code\\sesa-bundle\\notebooks\\CNES_TESTES\\netsus.py:91: UserWarning: Geometry is in a geographic CRS. Results from 'centroid' are likely incorrect. Use 'GeoSeries.to_crs()' to re-project geometries to a projected CRS before this operation.\n",
      "\n",
      "  self.mun_df[\"centroid\"] = self.mun_df.centroid\n"
     ]
    },
    {
     "data": {
      "text/plain": [
       "<netsus.NetSUS at 0x19c87530550>"
      ]
     },
     "execution_count": 3,
     "metadata": {},
     "output_type": "execute_result"
    }
   ],
   "source": [
    "# all ICD-10 codes\n",
    "icdall_ce = NetSUS(cid_chapter=None)\n",
    "\n",
    "icdall_ce.load_cnes(\"STCE2309.dbf\", os.path.join(suspath, \"cnes\", \"DBF\"))\n",
    "icdall_ce.load_sih('CE', 2020, 2021, os.path.join(suspath, \"sihsus\", \"DBF\"))\n",
    "icdall_ce.load_geo(os.path.join(datapath, \"shapefilesceqgis\"))"
   ]
  },
  {
   "cell_type": "code",
   "execution_count": 4,
   "metadata": {},
   "outputs": [],
   "source": [
    "output = os.path.join(datapath, 'networkx_gml', 'AIH_2020_2021_FLUX_ALL.gml')\n",
    "icdall_ce.build_network(output)"
   ]
  },
  {
   "cell_type": "markdown",
   "metadata": {},
   "source": [
    "NEOPLASMS"
   ]
  },
  {
   "cell_type": "code",
   "execution_count": 5,
   "metadata": {},
   "outputs": [
    {
     "name": "stderr",
     "output_type": "stream",
     "text": [
      "c:\\Users\\Higor Monteiro\\Documents\\code\\sesa-bundle\\notebooks\\CNES_TESTES\\netsus.py:91: UserWarning: Geometry is in a geographic CRS. Results from 'centroid' are likely incorrect. Use 'GeoSeries.to_crs()' to re-project geometries to a projected CRS before this operation.\n",
      "\n",
      "  self.mun_df[\"centroid\"] = self.mun_df.centroid\n"
     ]
    },
    {
     "data": {
      "text/plain": [
       "<netsus.NetSUS at 0x19ca1ad4310>"
      ]
     },
     "execution_count": 5,
     "metadata": {},
     "output_type": "execute_result"
    }
   ],
   "source": [
    "# neoplasms chapter\n",
    "icd_neo_ce = NetSUS(cid_chapter='Neoplasmas')\n",
    "\n",
    "icd_neo_ce.load_cnes(\"STCE2309.dbf\", os.path.join(suspath, \"cnes\", \"DBF\"))\n",
    "icd_neo_ce.load_sih('CE', 2020, 2021, os.path.join(suspath, \"sihsus\", \"DBF\"))\n",
    "icd_neo_ce.load_geo(os.path.join(datapath, \"shapefilesceqgis\"))"
   ]
  },
  {
   "cell_type": "code",
   "execution_count": 6,
   "metadata": {},
   "outputs": [],
   "source": [
    "output = os.path.join(datapath, 'networkx_gml', 'AIH_2020_2021_FLUX_NEOPLASMS.gml')\n",
    "icd_neo_ce.build_network(output)"
   ]
  },
  {
   "cell_type": "markdown",
   "metadata": {},
   "source": [
    "MENTAL HEALTH"
   ]
  },
  {
   "cell_type": "code",
   "execution_count": 7,
   "metadata": {},
   "outputs": [
    {
     "name": "stderr",
     "output_type": "stream",
     "text": [
      "c:\\Users\\Higor Monteiro\\Documents\\code\\sesa-bundle\\notebooks\\CNES_TESTES\\netsus.py:91: UserWarning: Geometry is in a geographic CRS. Results from 'centroid' are likely incorrect. Use 'GeoSeries.to_crs()' to re-project geometries to a projected CRS before this operation.\n",
      "\n",
      "  self.mun_df[\"centroid\"] = self.mun_df.centroid\n"
     ]
    },
    {
     "data": {
      "text/plain": [
       "<netsus.NetSUS at 0x19c993d77d0>"
      ]
     },
     "execution_count": 7,
     "metadata": {},
     "output_type": "execute_result"
    }
   ],
   "source": [
    "# -- neoplasms chapter\n",
    "icd_mental_ce = NetSUS(cid_chapter='Transtornos mentais e comportamentais')\n",
    "\n",
    "icd_mental_ce.load_cnes(\"STCE2309.dbf\", os.path.join(suspath, \"cnes\", \"DBF\"))\n",
    "icd_mental_ce.load_sih('CE', 2020, 2021, os.path.join(suspath, \"sihsus\", \"DBF\"))\n",
    "icd_mental_ce.load_geo(os.path.join(datapath, \"shapefilesceqgis\"))"
   ]
  },
  {
   "cell_type": "code",
   "execution_count": 8,
   "metadata": {},
   "outputs": [],
   "source": [
    "output = os.path.join(datapath, 'networkx_gml', 'AIH_2020_2021_FLUX_MENTAL.gml')\n",
    "icd_mental_ce.build_network(output)"
   ]
  },
  {
   "cell_type": "markdown",
   "metadata": {},
   "source": [
    "CIRCULATORY"
   ]
  },
  {
   "cell_type": "code",
   "execution_count": 9,
   "metadata": {},
   "outputs": [
    {
     "name": "stderr",
     "output_type": "stream",
     "text": [
      "c:\\Users\\Higor Monteiro\\Documents\\code\\sesa-bundle\\notebooks\\CNES_TESTES\\netsus.py:91: UserWarning: Geometry is in a geographic CRS. Results from 'centroid' are likely incorrect. Use 'GeoSeries.to_crs()' to re-project geometries to a projected CRS before this operation.\n",
      "\n",
      "  self.mun_df[\"centroid\"] = self.mun_df.centroid\n"
     ]
    },
    {
     "data": {
      "text/plain": [
       "<netsus.NetSUS at 0x19c94b47e50>"
      ]
     },
     "execution_count": 9,
     "metadata": {},
     "output_type": "execute_result"
    }
   ],
   "source": [
    "# neoplasms chapter\n",
    "icd_cardiac_ce = NetSUS(cid_chapter='Doenças do aparelho circulatório')\n",
    "\n",
    "icd_cardiac_ce.load_cnes(\"STCE2309.dbf\", os.path.join(suspath, \"cnes\", \"DBF\"))\n",
    "icd_cardiac_ce.load_sih('CE', 2020, 2021, os.path.join(suspath, \"sihsus\", \"DBF\"))\n",
    "icd_cardiac_ce.load_geo(os.path.join(datapath, \"shapefilesceqgis\"))"
   ]
  },
  {
   "cell_type": "code",
   "execution_count": 10,
   "metadata": {},
   "outputs": [],
   "source": [
    "output = os.path.join(datapath, 'networkx_gml', 'AIH_2020_2021_FLUX_CIRCULATORY.gml')\n",
    "icd_cardiac_ce.build_network(output)"
   ]
  },
  {
   "cell_type": "markdown",
   "metadata": {},
   "source": [
    "EXTERNAL"
   ]
  },
  {
   "cell_type": "code",
   "execution_count": 11,
   "metadata": {},
   "outputs": [
    {
     "name": "stderr",
     "output_type": "stream",
     "text": [
      "c:\\Users\\Higor Monteiro\\Documents\\code\\sesa-bundle\\notebooks\\CNES_TESTES\\netsus.py:91: UserWarning: Geometry is in a geographic CRS. Results from 'centroid' are likely incorrect. Use 'GeoSeries.to_crs()' to re-project geometries to a projected CRS before this operation.\n",
      "\n",
      "  self.mun_df[\"centroid\"] = self.mun_df.centroid\n"
     ]
    },
    {
     "data": {
      "text/plain": [
       "<netsus.NetSUS at 0x19c8dbca910>"
      ]
     },
     "execution_count": 11,
     "metadata": {},
     "output_type": "execute_result"
    }
   ],
   "source": [
    "# neoplasms chapter\n",
    "icd_external_ce = NetSUS(cid_chapter='Causas externas de morbidade e de mortalidade')\n",
    "\n",
    "icd_external_ce.load_cnes(\"STCE2309.dbf\", os.path.join(suspath, \"cnes\", \"DBF\"))\n",
    "icd_external_ce.load_sih('CE', 2020, 2021, os.path.join(suspath, \"sihsus\", \"DBF\"))\n",
    "icd_external_ce.load_geo(os.path.join(datapath, \"shapefilesceqgis\"))"
   ]
  },
  {
   "cell_type": "code",
   "execution_count": 12,
   "metadata": {},
   "outputs": [],
   "source": [
    "output = os.path.join(datapath, 'networkx_gml', 'AIH_2020_2021_FLUX_EXTERNAL.gml')\n",
    "icd_external_ce.build_network(output)"
   ]
  },
  {
   "cell_type": "code",
   "execution_count": null,
   "metadata": {},
   "outputs": [],
   "source": []
  },
  {
   "cell_type": "code",
   "execution_count": null,
   "metadata": {},
   "outputs": [],
   "source": []
  },
  {
   "cell_type": "code",
   "execution_count": 13,
   "metadata": {},
   "outputs": [
    {
     "data": {
      "text/html": [
       "<div>\n",
       "<style scoped>\n",
       "    .dataframe tbody tr th:only-of-type {\n",
       "        vertical-align: middle;\n",
       "    }\n",
       "\n",
       "    .dataframe tbody tr th {\n",
       "        vertical-align: top;\n",
       "    }\n",
       "\n",
       "    .dataframe thead th {\n",
       "        text-align: right;\n",
       "    }\n",
       "</style>\n",
       "<table border=\"1\" class=\"dataframe\">\n",
       "  <thead>\n",
       "    <tr style=\"text-align: right;\">\n",
       "      <th></th>\n",
       "      <th>N_AIH</th>\n",
       "      <th>CNES</th>\n",
       "      <th>MUNIC_RES</th>\n",
       "      <th>DIAG_PRINC</th>\n",
       "      <th>DIAG_SECUN</th>\n",
       "    </tr>\n",
       "  </thead>\n",
       "  <tbody>\n",
       "    <tr>\n",
       "      <th>77</th>\n",
       "      <td>2320101630660</td>\n",
       "      <td>2785900</td>\n",
       "      <td>230100</td>\n",
       "      <td>C168</td>\n",
       "      <td>0000</td>\n",
       "    </tr>\n",
       "    <tr>\n",
       "      <th>81</th>\n",
       "      <td>2320101750769</td>\n",
       "      <td>2785900</td>\n",
       "      <td>230765</td>\n",
       "      <td>D369</td>\n",
       "      <td>0000</td>\n",
       "    </tr>\n",
       "    <tr>\n",
       "      <th>92</th>\n",
       "      <td>2319105649707</td>\n",
       "      <td>6779522</td>\n",
       "      <td>230730</td>\n",
       "      <td>C677</td>\n",
       "      <td>0000</td>\n",
       "    </tr>\n",
       "    <tr>\n",
       "      <th>188</th>\n",
       "      <td>2319103800376</td>\n",
       "      <td>2785900</td>\n",
       "      <td>230100</td>\n",
       "      <td>D229</td>\n",
       "      <td>0000</td>\n",
       "    </tr>\n",
       "    <tr>\n",
       "      <th>239</th>\n",
       "      <td>2320101713171</td>\n",
       "      <td>2785900</td>\n",
       "      <td>230440</td>\n",
       "      <td>C169</td>\n",
       "      <td>0000</td>\n",
       "    </tr>\n",
       "    <tr>\n",
       "      <th>...</th>\n",
       "      <td>...</td>\n",
       "      <td>...</td>\n",
       "      <td>...</td>\n",
       "      <td>...</td>\n",
       "      <td>...</td>\n",
       "    </tr>\n",
       "    <tr>\n",
       "      <th>40821</th>\n",
       "      <td>2321106384828</td>\n",
       "      <td>2561425</td>\n",
       "      <td>231410</td>\n",
       "      <td>D487</td>\n",
       "      <td>0000</td>\n",
       "    </tr>\n",
       "    <tr>\n",
       "      <th>40898</th>\n",
       "      <td>2321106383761</td>\n",
       "      <td>2561425</td>\n",
       "      <td>231410</td>\n",
       "      <td>D487</td>\n",
       "      <td>0000</td>\n",
       "    </tr>\n",
       "    <tr>\n",
       "      <th>40899</th>\n",
       "      <td>2321106383783</td>\n",
       "      <td>2561425</td>\n",
       "      <td>231410</td>\n",
       "      <td>D487</td>\n",
       "      <td>0000</td>\n",
       "    </tr>\n",
       "    <tr>\n",
       "      <th>40914</th>\n",
       "      <td>2321106384322</td>\n",
       "      <td>2561425</td>\n",
       "      <td>231410</td>\n",
       "      <td>D259</td>\n",
       "      <td>0000</td>\n",
       "    </tr>\n",
       "    <tr>\n",
       "      <th>40920</th>\n",
       "      <td>2321106383343</td>\n",
       "      <td>2561425</td>\n",
       "      <td>231410</td>\n",
       "      <td>D487</td>\n",
       "      <td>0000</td>\n",
       "    </tr>\n",
       "  </tbody>\n",
       "</table>\n",
       "<p>50049 rows × 5 columns</p>\n",
       "</div>"
      ],
      "text/plain": [
       "               N_AIH     CNES MUNIC_RES DIAG_PRINC DIAG_SECUN\n",
       "77     2320101630660  2785900    230100       C168       0000\n",
       "81     2320101750769  2785900    230765       D369       0000\n",
       "92     2319105649707  6779522    230730       C677       0000\n",
       "188    2319103800376  2785900    230100       D229       0000\n",
       "239    2320101713171  2785900    230440       C169       0000\n",
       "...              ...      ...       ...        ...        ...\n",
       "40821  2321106384828  2561425    231410       D487       0000\n",
       "40898  2321106383761  2561425    231410       D487       0000\n",
       "40899  2321106383783  2561425    231410       D487       0000\n",
       "40914  2321106384322  2561425    231410       D259       0000\n",
       "40920  2321106383343  2561425    231410       D487       0000\n",
       "\n",
       "[50049 rows x 5 columns]"
      ]
     },
     "execution_count": 13,
     "metadata": {},
     "output_type": "execute_result"
    }
   ],
   "source": [
    "icd_neo_ce.sih_df"
   ]
  },
  {
   "cell_type": "code",
   "execution_count": 14,
   "metadata": {},
   "outputs": [],
   "source": [
    "import utils"
   ]
  },
  {
   "cell_type": "code",
   "execution_count": 15,
   "metadata": {},
   "outputs": [
    {
     "data": {
      "text/plain": [
       "['V01',\n",
       " 'V02',\n",
       " 'V03',\n",
       " 'V04',\n",
       " 'V05',\n",
       " 'V06',\n",
       " 'V07',\n",
       " 'V08',\n",
       " 'V09',\n",
       " 'V10',\n",
       " 'V11',\n",
       " 'V12',\n",
       " 'V13',\n",
       " 'V14',\n",
       " 'V15',\n",
       " 'V16',\n",
       " 'V17',\n",
       " 'V18',\n",
       " 'V19',\n",
       " 'V20',\n",
       " 'V21',\n",
       " 'V22',\n",
       " 'V23',\n",
       " 'V24',\n",
       " 'V25',\n",
       " 'V26',\n",
       " 'V27',\n",
       " 'V28',\n",
       " 'V29',\n",
       " 'V30',\n",
       " 'V31',\n",
       " 'V32',\n",
       " 'V33',\n",
       " 'V34',\n",
       " 'V35',\n",
       " 'V36',\n",
       " 'V37',\n",
       " 'V38',\n",
       " 'V39',\n",
       " 'V40',\n",
       " 'V41',\n",
       " 'V42',\n",
       " 'V43',\n",
       " 'V44',\n",
       " 'V45',\n",
       " 'V46',\n",
       " 'V47',\n",
       " 'V48',\n",
       " 'V49',\n",
       " 'V50',\n",
       " 'V51',\n",
       " 'V52',\n",
       " 'V53',\n",
       " 'V54',\n",
       " 'V55',\n",
       " 'V56',\n",
       " 'V57',\n",
       " 'V58',\n",
       " 'V59',\n",
       " 'V60',\n",
       " 'V61',\n",
       " 'V62',\n",
       " 'V63',\n",
       " 'V64',\n",
       " 'V65',\n",
       " 'V66',\n",
       " 'V67',\n",
       " 'V68',\n",
       " 'V69',\n",
       " 'V70',\n",
       " 'V71',\n",
       " 'V72',\n",
       " 'V73',\n",
       " 'V74',\n",
       " 'V75',\n",
       " 'V76',\n",
       " 'V77',\n",
       " 'V78',\n",
       " 'V79',\n",
       " 'V80',\n",
       " 'V81',\n",
       " 'V82',\n",
       " 'V83',\n",
       " 'V84',\n",
       " 'V85',\n",
       " 'V86',\n",
       " 'V87',\n",
       " 'V88',\n",
       " 'V89',\n",
       " 'V90',\n",
       " 'V91',\n",
       " 'V92',\n",
       " 'V93',\n",
       " 'V94',\n",
       " 'V95',\n",
       " 'V96',\n",
       " 'V97',\n",
       " 'V98',\n",
       " 'V99',\n",
       " 'Y01',\n",
       " 'Y02',\n",
       " 'Y03',\n",
       " 'Y04',\n",
       " 'Y05',\n",
       " 'Y06',\n",
       " 'Y07',\n",
       " 'Y08',\n",
       " 'Y09',\n",
       " 'Y10',\n",
       " 'Y11',\n",
       " 'Y12',\n",
       " 'Y13',\n",
       " 'Y14',\n",
       " 'Y15',\n",
       " 'Y16',\n",
       " 'Y17',\n",
       " 'Y18',\n",
       " 'Y19',\n",
       " 'Y20',\n",
       " 'Y21',\n",
       " 'Y22',\n",
       " 'Y23',\n",
       " 'Y24',\n",
       " 'Y25',\n",
       " 'Y26',\n",
       " 'Y27',\n",
       " 'Y28',\n",
       " 'Y29',\n",
       " 'Y30',\n",
       " 'Y31',\n",
       " 'Y32',\n",
       " 'Y33',\n",
       " 'Y34',\n",
       " 'Y35',\n",
       " 'Y36',\n",
       " 'Y37',\n",
       " 'Y38',\n",
       " 'Y39',\n",
       " 'Y40',\n",
       " 'Y41',\n",
       " 'Y42',\n",
       " 'Y43',\n",
       " 'Y44',\n",
       " 'Y45',\n",
       " 'Y46',\n",
       " 'Y47',\n",
       " 'Y48',\n",
       " 'Y49',\n",
       " 'Y50',\n",
       " 'Y51',\n",
       " 'Y52',\n",
       " 'Y53',\n",
       " 'Y54',\n",
       " 'Y55',\n",
       " 'Y56',\n",
       " 'Y57',\n",
       " 'Y58',\n",
       " 'Y59',\n",
       " 'Y60',\n",
       " 'Y61',\n",
       " 'Y62',\n",
       " 'Y63',\n",
       " 'Y64',\n",
       " 'Y65',\n",
       " 'Y66',\n",
       " 'Y67',\n",
       " 'Y68',\n",
       " 'Y69',\n",
       " 'Y70',\n",
       " 'Y71',\n",
       " 'Y72',\n",
       " 'Y73',\n",
       " 'Y74',\n",
       " 'Y75',\n",
       " 'Y76',\n",
       " 'Y77',\n",
       " 'Y78',\n",
       " 'Y79',\n",
       " 'Y80',\n",
       " 'Y81',\n",
       " 'Y82',\n",
       " 'Y83',\n",
       " 'Y84',\n",
       " 'Y85',\n",
       " 'Y86',\n",
       " 'Y87',\n",
       " 'Y88',\n",
       " 'Y89',\n",
       " 'Y90',\n",
       " 'Y91',\n",
       " 'Y92',\n",
       " 'Y93',\n",
       " 'Y94',\n",
       " 'Y95',\n",
       " 'Y96',\n",
       " 'Y97',\n",
       " 'Y98']"
      ]
     },
     "execution_count": 15,
     "metadata": {},
     "output_type": "execute_result"
    }
   ],
   "source": [
    "utils.filter_chapter('Causas externas de morbidade e de mortalidade')"
   ]
  },
  {
   "cell_type": "code",
   "execution_count": 16,
   "metadata": {},
   "outputs": [
    {
     "data": {
      "text/plain": [
       "0        I64\n",
       "1        S72\n",
       "2        S72\n",
       "3        S72\n",
       "4        J93\n",
       "        ... \n",
       "41013    B87\n",
       "41014    M86\n",
       "41015    B95\n",
       "41016    D50\n",
       "41017    B95\n",
       "Name: DIAG_PRINC, Length: 969151, dtype: object"
      ]
     },
     "execution_count": 16,
     "metadata": {},
     "output_type": "execute_result"
    }
   ],
   "source": [
    "icdall_ce.sih_df[\"DIAG_PRINC\"].apply(lambda x: x[:3])"
   ]
  },
  {
   "cell_type": "code",
   "execution_count": null,
   "metadata": {},
   "outputs": [],
   "source": []
  }
 ],
 "metadata": {
  "kernelspec": {
   "display_name": "mywork",
   "language": "python",
   "name": "python3"
  },
  "language_info": {
   "codemirror_mode": {
    "name": "ipython",
    "version": 3
   },
   "file_extension": ".py",
   "mimetype": "text/x-python",
   "name": "python",
   "nbconvert_exporter": "python",
   "pygments_lexer": "ipython3",
   "version": "3.11.5"
  }
 },
 "nbformat": 4,
 "nbformat_minor": 2
}
