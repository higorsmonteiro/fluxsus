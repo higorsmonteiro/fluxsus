{
 "cells": [
  {
   "cell_type": "code",
   "execution_count": 1,
   "metadata": {},
   "outputs": [
    {
     "name": "stdout",
     "output_type": "stream",
     "text": [
      "PyTables is not installed. No support for HDF output.\n"
     ]
    }
   ],
   "source": [
    "import os\n",
    "import sys\n",
    "sys.path.append(\"..\")\n",
    "\n",
    "# -- network analysis (later install graph-tool)\n",
    "import pandas as pd\n",
    "import geopandas as gpd\n",
    "\n",
    "import networkx as nx\n",
    "import matplotlib.pyplot as plt\n",
    "\n",
    "from fluxsus.fluxnets import FluxNets"
   ]
  },
  {
   "cell_type": "code",
   "execution_count": 2,
   "metadata": {},
   "outputs": [],
   "source": [
    "datapath = os.path.join(os.environ[\"HOMEPATH\"], \"Documents\", \"data\")\n",
    "sihpath = os.path.join(datapath, \"opendatasus\", \"sihsus\", \"PARQUET_ANOS\")\n",
    "geopath = os.path.join(datapath, \"shapefilesceqgis\")"
   ]
  },
  {
   "cell_type": "code",
   "execution_count": 51,
   "metadata": {},
   "outputs": [],
   "source": [
    "# -- SIHSUS\n",
    "year_range = range(2017, 2022)\n",
    "\n",
    "sihsus_df = []\n",
    "for year in year_range:\n",
    "    sihsus_df.append( pd.read_parquet(os.path.join(sihpath, f\"RDCE_{year}.parquet\")) )\n",
    "sihsus_df = pd.concat(sihsus_df)"
   ]
  },
  {
   "cell_type": "code",
   "execution_count": 52,
   "metadata": {},
   "outputs": [
    {
     "name": "stderr",
     "output_type": "stream",
     "text": [
      "C:\\Users\\higor.monteiro\\AppData\\Local\\Temp\\ipykernel_22840\\3092562899.py:9: UserWarning: Geometry is in a geographic CRS. Results from 'centroid' are likely incorrect. Use 'GeoSeries.to_crs()' to re-project geometries to a projected CRS before this operation.\n",
      "\n",
      "  mun_df1[\"centroid\"] = mun_df1.centroid\n"
     ]
    },
    {
     "data": {
      "text/html": [
       "<div>\n",
       "<style scoped>\n",
       "    .dataframe tbody tr th:only-of-type {\n",
       "        vertical-align: middle;\n",
       "    }\n",
       "\n",
       "    .dataframe tbody tr th {\n",
       "        vertical-align: top;\n",
       "    }\n",
       "\n",
       "    .dataframe thead th {\n",
       "        text-align: right;\n",
       "    }\n",
       "</style>\n",
       "<table border=\"1\" class=\"dataframe\">\n",
       "  <thead>\n",
       "    <tr style=\"text-align: right;\">\n",
       "      <th></th>\n",
       "      <th>CD_GEOCODM</th>\n",
       "      <th>NM_MUNICIP</th>\n",
       "      <th>GEO6</th>\n",
       "      <th>MACRO</th>\n",
       "      <th>CRES</th>\n",
       "      <th>geometry</th>\n",
       "      <th>Macro Nome</th>\n",
       "      <th>lon</th>\n",
       "      <th>lat</th>\n",
       "    </tr>\n",
       "  </thead>\n",
       "  <tbody>\n",
       "    <tr>\n",
       "      <th>0</th>\n",
       "      <td>2300101</td>\n",
       "      <td>ABAIARA</td>\n",
       "      <td>230010</td>\n",
       "      <td>5</td>\n",
       "      <td>19</td>\n",
       "      <td>POLYGON ((-39.08246 -7.29577, -39.08347 -7.292...</td>\n",
       "      <td>Superintendência Regional de Saúde Cariri</td>\n",
       "      <td>-39.037538</td>\n",
       "      <td>-7.359907</td>\n",
       "    </tr>\n",
       "    <tr>\n",
       "      <th>1</th>\n",
       "      <td>2300309</td>\n",
       "      <td>ACOPIARA</td>\n",
       "      <td>230030</td>\n",
       "      <td>5</td>\n",
       "      <td>18</td>\n",
       "      <td>POLYGON ((-39.21390 -5.99175, -39.21278 -5.991...</td>\n",
       "      <td>Superintendência Regional de Saúde Cariri</td>\n",
       "      <td>-39.492823</td>\n",
       "      <td>-6.122411</td>\n",
       "    </tr>\n",
       "    <tr>\n",
       "      <th>2</th>\n",
       "      <td>2300606</td>\n",
       "      <td>ALTANEIRA</td>\n",
       "      <td>230060</td>\n",
       "      <td>5</td>\n",
       "      <td>20</td>\n",
       "      <td>POLYGON ((-39.70288 -6.97367, -39.69772 -6.961...</td>\n",
       "      <td>Superintendência Regional de Saúde Cariri</td>\n",
       "      <td>-39.698883</td>\n",
       "      <td>-6.985781</td>\n",
       "    </tr>\n",
       "    <tr>\n",
       "      <th>3</th>\n",
       "      <td>2300804</td>\n",
       "      <td>ANTONINA DO NORTE</td>\n",
       "      <td>230080</td>\n",
       "      <td>5</td>\n",
       "      <td>20</td>\n",
       "      <td>POLYGON ((-40.03288 -6.73521, -40.03228 -6.734...</td>\n",
       "      <td>Superintendência Regional de Saúde Cariri</td>\n",
       "      <td>-39.981590</td>\n",
       "      <td>-6.756665</td>\n",
       "    </tr>\n",
       "    <tr>\n",
       "      <th>4</th>\n",
       "      <td>2301307</td>\n",
       "      <td>ARARIPE</td>\n",
       "      <td>230130</td>\n",
       "      <td>5</td>\n",
       "      <td>20</td>\n",
       "      <td>POLYGON ((-40.26119 -7.14280, -40.26119 -7.142...</td>\n",
       "      <td>Superintendência Regional de Saúde Cariri</td>\n",
       "      <td>-40.076659</td>\n",
       "      <td>-7.239024</td>\n",
       "    </tr>\n",
       "  </tbody>\n",
       "</table>\n",
       "</div>"
      ],
      "text/plain": [
       "  CD_GEOCODM         NM_MUNICIP    GEO6  MACRO  CRES  \\\n",
       "0    2300101            ABAIARA  230010      5    19   \n",
       "1    2300309           ACOPIARA  230030      5    18   \n",
       "2    2300606          ALTANEIRA  230060      5    20   \n",
       "3    2300804  ANTONINA DO NORTE  230080      5    20   \n",
       "4    2301307            ARARIPE  230130      5    20   \n",
       "\n",
       "                                            geometry  \\\n",
       "0  POLYGON ((-39.08246 -7.29577, -39.08347 -7.292...   \n",
       "1  POLYGON ((-39.21390 -5.99175, -39.21278 -5.991...   \n",
       "2  POLYGON ((-39.70288 -6.97367, -39.69772 -6.961...   \n",
       "3  POLYGON ((-40.03288 -6.73521, -40.03228 -6.734...   \n",
       "4  POLYGON ((-40.26119 -7.14280, -40.26119 -7.142...   \n",
       "\n",
       "                                  Macro Nome        lon       lat  \n",
       "0  Superintendência Regional de Saúde Cariri -39.037538 -7.359907  \n",
       "1  Superintendência Regional de Saúde Cariri -39.492823 -6.122411  \n",
       "2  Superintendência Regional de Saúde Cariri -39.698883 -6.985781  \n",
       "3  Superintendência Regional de Saúde Cariri -39.981590 -6.756665  \n",
       "4  Superintendência Regional de Saúde Cariri -40.076659 -7.239024  "
      ]
     },
     "execution_count": 52,
     "metadata": {},
     "output_type": "execute_result"
    }
   ],
   "source": [
    "# -- GEO DATA\n",
    "mun_df = gpd.read_file( os.path.join(geopath, \"Ceará MUN.shp\") )\n",
    "macro_df = gpd.read_file( os.path.join(geopath, \"Macro Ceará.shp\") )\n",
    "\n",
    "macro_df[\"ID\"] = macro_df[\"ID\"].astype(int)\n",
    "mun_df[\"GEO6\"] = mun_df[\"GEO6\"].astype(str)\n",
    "\n",
    "mun_df1 = mun_df.merge(macro_df[[\"ID\", \"Macro Shee\"]], left_on=\"MACRO\", right_on=\"ID\").drop(\"ID\", axis=1).rename({\"Macro Shee\": \"Macro Nome\"}, axis=1)\n",
    "mun_df1[\"centroid\"] = mun_df1.centroid\n",
    "mun_df1['lon'] = mun_df1['centroid'].apply(lambda x: x.x)\n",
    "mun_df1['lat'] = mun_df1['centroid'].apply(lambda x: x.y)\n",
    "mun_df1 = mun_df1.drop('centroid', axis=1)\n",
    "mun_df1.head()"
   ]
  },
  {
   "cell_type": "code",
   "execution_count": 53,
   "metadata": {},
   "outputs": [],
   "source": [
    "flux = FluxNets(sihsus_df, mun_df1)"
   ]
  },
  {
   "cell_type": "code",
   "execution_count": 54,
   "metadata": {},
   "outputs": [],
   "source": [
    "flux.build_flux_network(icd_chapter=\"V\")"
   ]
  },
  {
   "cell_type": "code",
   "execution_count": 55,
   "metadata": {},
   "outputs": [
    {
     "data": {
      "text/plain": [
       "<networkx.classes.digraph.DiGraph at 0x17adddc2fb0>"
      ]
     },
     "execution_count": 55,
     "metadata": {},
     "output_type": "execute_result"
    }
   ],
   "source": [
    "flux.G"
   ]
  },
  {
   "cell_type": "code",
   "execution_count": 56,
   "metadata": {},
   "outputs": [
    {
     "data": {
      "text/plain": [
       "247"
      ]
     },
     "execution_count": 56,
     "metadata": {},
     "output_type": "execute_result"
    }
   ],
   "source": [
    "len(flux.G.edges)"
   ]
  },
  {
   "cell_type": "code",
   "execution_count": 57,
   "metadata": {},
   "outputs": [
    {
     "data": {
      "text/plain": [
       "178"
      ]
     },
     "execution_count": 57,
     "metadata": {},
     "output_type": "execute_result"
    }
   ],
   "source": [
    "len(flux.G.nodes)"
   ]
  },
  {
   "cell_type": "code",
   "execution_count": null,
   "metadata": {},
   "outputs": [],
   "source": []
  },
  {
   "cell_type": "code",
   "execution_count": null,
   "metadata": {},
   "outputs": [],
   "source": []
  },
  {
   "cell_type": "code",
   "execution_count": null,
   "metadata": {},
   "outputs": [],
   "source": []
  }
 ],
 "metadata": {
  "kernelspec": {
   "display_name": "sevig310",
   "language": "python",
   "name": "python3"
  },
  "language_info": {
   "codemirror_mode": {
    "name": "ipython",
    "version": 3
   },
   "file_extension": ".py",
   "mimetype": "text/x-python",
   "name": "python",
   "nbconvert_exporter": "python",
   "pygments_lexer": "ipython3",
   "version": "3.10.13"
  }
 },
 "nbformat": 4,
 "nbformat_minor": 2
}
